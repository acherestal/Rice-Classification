{
  "nbformat": 4,
  "nbformat_minor": 0,
  "metadata": {
    "colab": {
      "provenance": []
    },
    "kernelspec": {
      "name": "python3",
      "display_name": "Python 3"
    },
    "language_info": {
      "name": "python"
    }
  },
  "cells": [
    {
      "cell_type": "code",
      "execution_count": null,
      "metadata": {
        "colab": {
          "base_uri": "https://localhost:8080/"
        },
        "id": "9Wasj6zaydm3",
        "outputId": "24033441-f2af-4ef1-e2fb-b6e39ddc3132"
      },
      "outputs": [
        {
          "output_type": "stream",
          "name": "stdout",
          "text": [
            "[[7805 437.915 209.8215 ... 0.3793 0.4733 'Basmati']\n",
            " [7503 340.757 138.3361 ... 0.3144 0.3641 'Arborio']\n",
            " [5124 314.617 141.9803 ... 0.3445 0.4448 'Jasmine']\n",
            " ...\n",
            " [7579 339.295 136.3125 ... 0.3164 0.3761 'Arborio']\n",
            " [15174 489.502 200.9486 ... 0.4215 0.4469 'Ipsala']\n",
            " [12931 452.635 185.5138 ... 0.4414 0.4626 'Ipsala']]\n"
          ]
        }
      ],
      "source": [
        "import numpy as np\n",
        "import matplotlib.pyplot as plt\n",
        "import pandas as pd\n",
        "\n",
        "# RICE MSC Dataset from https://www.muratkoklu.com/datasets/\n",
        "df = pd.read_csv('/content/Rice_MSC_Dataset.csv')\n",
        "\n",
        "data = df.to_numpy()\n",
        "\n",
        "print(data)"
      ]
    },
    {
      "cell_type": "code",
      "source": [
        "data_x = data[:,:5] #using the first 5 atrributes from dataset\n",
        "data_y = data[:,-1:]\n",
        "\n",
        "print('data_x atrribute: area, perimeter, major_axis, minor_axis, eccentricity')\n",
        "print('data_y atrribute: class - Basmati, Arborio, Jasmine, Ipsala, Karacadag')"
      ],
      "metadata": {
        "colab": {
          "base_uri": "https://localhost:8080/"
        },
        "id": "-A4TJYXxikUE",
        "outputId": "7277d74f-ea9b-4f8c-aebd-967d43d32e36"
      },
      "execution_count": null,
      "outputs": [
        {
          "output_type": "stream",
          "name": "stdout",
          "text": [
            "data_x atrribute: area, perimeter, major_axis, minor_axis, eccentricity\n",
            "data_y atrribute: class - Basmati, Arborio, Jasmine, Ipsala, Karacadag\n"
          ]
        }
      ]
    },
    {
      "cell_type": "code",
      "source": [
        "data_y.transpose()"
      ],
      "metadata": {
        "colab": {
          "base_uri": "https://localhost:8080/"
        },
        "id": "kOqfxpdCqKwj",
        "outputId": "1aa6114c-0786-4d1e-87cb-b136e0651004"
      },
      "execution_count": null,
      "outputs": [
        {
          "output_type": "execute_result",
          "data": {
            "text/plain": [
              "array([['Basmati', 'Arborio', 'Jasmine', ..., 'Arborio', 'Ipsala',\n",
              "        'Ipsala']], dtype=object)"
            ]
          },
          "metadata": {},
          "execution_count": 3
        }
      ]
    },
    {
      "cell_type": "code",
      "source": [
        "train_x, test_x = np.split(data_x,[int(0.80 * len(data_x))])\n",
        "train_y, test_y = np.split(data_y,[int(0.80 * len(data_y))])\n",
        "\n",
        "print(len(train_x))\n",
        "print(len(test_x))"
      ],
      "metadata": {
        "id": "Ydjr653e3uvf",
        "colab": {
          "base_uri": "https://localhost:8080/"
        },
        "outputId": "ed962096-ca79-4d17-8b06-8803ae4fc536"
      },
      "execution_count": null,
      "outputs": [
        {
          "output_type": "stream",
          "name": "stdout",
          "text": [
            "60000\n",
            "15000\n"
          ]
        }
      ]
    },
    {
      "cell_type": "code",
      "source": [
        "# KNN Method\n",
        "from sklearn.neighbors import KNeighborsClassifier\n",
        "K = 5\n",
        "\n",
        "def get_KNN(x,y,k):\n",
        "  neigh = KNeighborsClassifier(n_neighbors=k)\n",
        "  neigh.fit(x, y)\n",
        "  predict_labels = neigh.predict(x)\n",
        "  return predict_labels"
      ],
      "metadata": {
        "id": "2-Ssqenjozw8"
      },
      "execution_count": null,
      "outputs": []
    },
    {
      "cell_type": "code",
      "source": [
        "#Naive Bayes Method\n",
        "from sklearn.naive_bayes import GaussianNB\n",
        "\n",
        "def get_Naive(x,y):\n",
        "  gnb = GaussianNB()\n",
        "  gnb.fit(train_x, train_y)\n",
        "\n",
        "  pred = gnb.predict(train_x)\n",
        "  return pred"
      ],
      "metadata": {
        "id": "RP-GfhwnrecU"
      },
      "execution_count": null,
      "outputs": []
    },
    {
      "cell_type": "code",
      "source": [
        "# Confusion Matrix\n",
        "from sklearn import metrics\n",
        "\n",
        "def get_conMatrix(y, predict_labels):\n",
        "\n",
        "  confusion_matrix = metrics.confusion_matrix(y, predict_labels)\n",
        "  cm_display = metrics.ConfusionMatrixDisplay(confusion_matrix = confusion_matrix, display_labels = \n",
        "                                            ['Basmati', 'Arborio', 'Jasmine', 'Ipsala', 'Karacadag'])\n",
        "\n",
        "  cm_display.plot(include_values=None)\n",
        "  plt.xlabel(' ')\n",
        "  plt.ylabel(' ')\n",
        "  plt.show()\n",
        "\n",
        "  accuracy = metrics.accuracy_score(y, predict_labels)\n",
        "  print('\\nAccuracy:', accuracy)"
      ],
      "metadata": {
        "id": "aGymuzA9sMED"
      },
      "execution_count": null,
      "outputs": []
    },
    {
      "cell_type": "code",
      "source": [
        "# KNN on Train using area\n",
        "\n",
        "X = train_x[:,:1]\n",
        "Y = train_y\n",
        "\n",
        "pTrain = get_KNN(X,Y,K)\n",
        "get_conMatrix(Y,pTrain)"
      ],
      "metadata": {
        "colab": {
          "base_uri": "https://localhost:8080/",
          "height": 368
        },
        "id": "5-9rFP_hySdN",
        "outputId": "bc5f0071-a703-4d58-9000-d157cc0b758a"
      },
      "execution_count": null,
      "outputs": [
        {
          "output_type": "stream",
          "name": "stderr",
          "text": [
            "/usr/local/lib/python3.8/dist-packages/sklearn/neighbors/_classification.py:198: DataConversionWarning: A column-vector y was passed when a 1d array was expected. Please change the shape of y to (n_samples,), for example using ravel().\n",
            "  return self._fit(X, y)\n"
          ]
        },
        {
          "output_type": "display_data",
          "data": {
            "text/plain": [
              "<Figure size 432x288 with 2 Axes>"
            ],
            "image/png": "[encoded data removed]"
          },
          "metadata": {
            "needs_background": "light"
          }
        },
        {
          "output_type": "stream",
          "name": "stdout",
          "text": [
            "\n",
            "Accuracy: 0.6933833333333334\n"
          ]
        }
      ]
    },
    {
      "cell_type": "code",
      "source": [
        "#KNN on Test using area\n",
        "\n",
        "X2 = test_x[:,:1]\n",
        "Y2 = test_y\n",
        "\n",
        "pTest = get_KNN(X2,Y2,K)\n",
        "get_conMatrix(Y2, pTest)"
      ],
      "metadata": {
        "colab": {
          "base_uri": "https://localhost:8080/",
          "height": 368
        },
        "id": "Ra6kTj_GyUWg",
        "outputId": "589bf7d2-dc16-470e-95f2-282a662219f3"
      },
      "execution_count": null,
      "outputs": [
        {
          "output_type": "stream",
          "name": "stderr",
          "text": [
            "/usr/local/lib/python3.8/dist-packages/sklearn/neighbors/_classification.py:198: DataConversionWarning: A column-vector y was passed when a 1d array was expected. Please change the shape of y to (n_samples,), for example using ravel().\n",
            "  return self._fit(X, y)\n"
          ]
        },
        {
          "output_type": "display_data",
          "data": {
            "text/plain": [
              "<Figure size 432x288 with 2 Axes>"
            ],
            "image/png": "[encoded data removed]"
          },
          "metadata": {
            "needs_background": "light"
          }
        },
        {
          "output_type": "stream",
          "name": "stdout",
          "text": [
            "\n",
            "Accuracy: 0.7469333333333333\n"
          ]
        }
      ]
    },
    {
      "cell_type": "code",
      "source": [
        "#Naive on Train\n",
        "\n",
        "nlabels = get_Naive(train_x, train_y)\n",
        "get_conMatrix(train_y, nlabels)\n"
      ],
      "metadata": {
        "colab": {
          "base_uri": "https://localhost:8080/",
          "height": 368
        },
        "id": "ymlzlr7anbPU",
        "outputId": "622d44cb-befb-4040-fe71-91a0dce4d499"
      },
      "execution_count": null,
      "outputs": [
        {
          "output_type": "stream",
          "name": "stderr",
          "text": [
            "/usr/local/lib/python3.8/dist-packages/sklearn/utils/validation.py:993: DataConversionWarning: A column-vector y was passed when a 1d array was expected. Please change the shape of y to (n_samples, ), for example using ravel().\n",
            "  y = column_or_1d(y, warn=True)\n"
          ]
        },
        {
          "output_type": "display_data",
          "data": {
            "text/plain": [
              "<Figure size 432x288 with 2 Axes>"
            ],
            "image/png": "[encoded data removed]"
          },
          "metadata": {
            "needs_background": "light"
          }
        },
        {
          "output_type": "stream",
          "name": "stdout",
          "text": [
            "\n",
            "Accuracy: 0.93215\n"
          ]
        }
      ]
    },
    {
      "cell_type": "code",
      "source": [
        "#Naive on Test\n",
        "\n",
        "nTestLabels = get_Naive(test_x, test_y)\n",
        "get_conMatrix(train_y, nTestLabels)"
      ],
      "metadata": {
        "colab": {
          "base_uri": "https://localhost:8080/",
          "height": 368
        },
        "id": "HYeiGQuUnidC",
        "outputId": "d5749fa2-35be-4637-d63f-7eebb8f75969"
      },
      "execution_count": null,
      "outputs": [
        {
          "output_type": "stream",
          "name": "stderr",
          "text": [
            "/usr/local/lib/python3.8/dist-packages/sklearn/utils/validation.py:993: DataConversionWarning: A column-vector y was passed when a 1d array was expected. Please change the shape of y to (n_samples, ), for example using ravel().\n",
            "  y = column_or_1d(y, warn=True)\n"
          ]
        },
        {
          "output_type": "display_data",
          "data": {
            "text/plain": [
              "<Figure size 432x288 with 2 Axes>"
            ],
            "image/png": "[encoded data removed]"
          },
          "metadata": {
            "needs_background": "light"
          }
        },
        {
          "output_type": "stream",
          "name": "stdout",
          "text": [
            "\n",
            "Accuracy: 0.93215\n"
          ]
        }
      ]
    }
  ]
}